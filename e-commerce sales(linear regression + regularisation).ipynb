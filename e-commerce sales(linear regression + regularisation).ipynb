{
 "cells": [
  {
   "cell_type": "markdown",
   "id": "f7a34ac5",
   "metadata": {},
   "source": [
    "#### Importing librarires."
   ]
  },
  {
   "cell_type": "code",
   "execution_count": 1,
   "id": "2404e35d",
   "metadata": {
    "execution": {
     "iopub.execute_input": "2022-03-31T12:02:48.126140Z",
     "iopub.status.busy": "2022-03-31T12:02:48.125373Z",
     "iopub.status.idle": "2022-03-31T12:02:49.180000Z",
     "shell.execute_reply": "2022-03-31T12:02:49.180635Z",
     "shell.execute_reply.started": "2022-03-31T09:06:24.582305Z"
    },
    "papermill": {
     "duration": 1.109055,
     "end_time": "2022-03-31T12:02:49.180899",
     "exception": false,
     "start_time": "2022-03-31T12:02:48.071844",
     "status": "completed"
    },
    "tags": []
   },
   "outputs": [],
   "source": [
    "import pandas as pd\n",
    "import numpy as np\n",
    "import seaborn as sns\n",
    "from sklearn.preprocessing import StandardScaler\n",
    "from sklearn.linear_model import Ridge,Lasso,RidgeCV, LassoCV, ElasticNet, ElasticNetCV, LinearRegression\n",
    "from sklearn.model_selection import train_test_split\n",
    "from sklearn.metrics import mean_squared_error, mean_absolute_error, mean_absolute_percentage_error"
   ]
  },
  {
   "cell_type": "markdown",
   "id": "c0c018ac",
   "metadata": {},
   "source": [
    "#### Reading and checking info about data."
   ]
  },
  {
   "cell_type": "code",
   "execution_count": 2,
   "id": "da658c37",
   "metadata": {
    "execution": {
     "iopub.execute_input": "2022-03-31T12:02:49.278906Z",
     "iopub.status.busy": "2022-03-31T12:02:49.278197Z",
     "iopub.status.idle": "2022-03-31T12:02:49.297789Z",
     "shell.execute_reply": "2022-03-31T12:02:49.297093Z",
     "shell.execute_reply.started": "2022-03-31T09:08:59.641384Z"
    },
    "papermill": {
     "duration": 0.071112,
     "end_time": "2022-03-31T12:02:49.297985",
     "exception": false,
     "start_time": "2022-03-31T12:02:49.226873",
     "status": "completed"
    },
    "tags": []
   },
   "outputs": [],
   "source": [
    "data=pd.read_csv(\"D:/Data/Datasets/Ecommerce Customers.csv\")"
   ]
  },
  {
   "cell_type": "code",
   "execution_count": 3,
   "id": "8dd7c336",
   "metadata": {
    "execution": {
     "iopub.execute_input": "2022-03-31T12:02:49.399303Z",
     "iopub.status.busy": "2022-03-31T12:02:49.398330Z",
     "iopub.status.idle": "2022-03-31T12:02:49.422014Z",
     "shell.execute_reply": "2022-03-31T12:02:49.421334Z",
     "shell.execute_reply.started": "2022-03-31T09:09:02.531099Z"
    },
    "papermill": {
     "duration": 0.077776,
     "end_time": "2022-03-31T12:02:49.422165",
     "exception": false,
     "start_time": "2022-03-31T12:02:49.344389",
     "status": "completed"
    },
    "tags": []
   },
   "outputs": [
    {
     "data": {
      "text/html": [
       "<div>\n",
       "<style scoped>\n",
       "    .dataframe tbody tr th:only-of-type {\n",
       "        vertical-align: middle;\n",
       "    }\n",
       "\n",
       "    .dataframe tbody tr th {\n",
       "        vertical-align: top;\n",
       "    }\n",
       "\n",
       "    .dataframe thead th {\n",
       "        text-align: right;\n",
       "    }\n",
       "</style>\n",
       "<table border=\"1\" class=\"dataframe\">\n",
       "  <thead>\n",
       "    <tr style=\"text-align: right;\">\n",
       "      <th></th>\n",
       "      <th>Email</th>\n",
       "      <th>Address</th>\n",
       "      <th>Avatar</th>\n",
       "      <th>Avg. Session Length</th>\n",
       "      <th>Time on App</th>\n",
       "      <th>Time on Website</th>\n",
       "      <th>Length of Membership</th>\n",
       "      <th>Yearly Amount Spent</th>\n",
       "    </tr>\n",
       "  </thead>\n",
       "  <tbody>\n",
       "    <tr>\n",
       "      <th>0</th>\n",
       "      <td>mstephenson@fernandez.com</td>\n",
       "      <td>835 Frank Tunnel\\nWrightmouth, MI 82180-9605</td>\n",
       "      <td>Violet</td>\n",
       "      <td>34.497268</td>\n",
       "      <td>12.655651</td>\n",
       "      <td>39.577668</td>\n",
       "      <td>4.082621</td>\n",
       "      <td>587.951054</td>\n",
       "    </tr>\n",
       "    <tr>\n",
       "      <th>1</th>\n",
       "      <td>hduke@hotmail.com</td>\n",
       "      <td>4547 Archer Common\\nDiazchester, CA 06566-8576</td>\n",
       "      <td>DarkGreen</td>\n",
       "      <td>31.926272</td>\n",
       "      <td>11.109461</td>\n",
       "      <td>37.268959</td>\n",
       "      <td>2.664034</td>\n",
       "      <td>392.204933</td>\n",
       "    </tr>\n",
       "    <tr>\n",
       "      <th>2</th>\n",
       "      <td>pallen@yahoo.com</td>\n",
       "      <td>24645 Valerie Unions Suite 582\\nCobbborough, D...</td>\n",
       "      <td>Bisque</td>\n",
       "      <td>33.000915</td>\n",
       "      <td>11.330278</td>\n",
       "      <td>37.110597</td>\n",
       "      <td>4.104543</td>\n",
       "      <td>487.547505</td>\n",
       "    </tr>\n",
       "    <tr>\n",
       "      <th>3</th>\n",
       "      <td>riverarebecca@gmail.com</td>\n",
       "      <td>1414 David Throughway\\nPort Jason, OH 22070-1220</td>\n",
       "      <td>SaddleBrown</td>\n",
       "      <td>34.305557</td>\n",
       "      <td>13.717514</td>\n",
       "      <td>36.721283</td>\n",
       "      <td>3.120179</td>\n",
       "      <td>581.852344</td>\n",
       "    </tr>\n",
       "    <tr>\n",
       "      <th>4</th>\n",
       "      <td>mstephens@davidson-herman.com</td>\n",
       "      <td>14023 Rodriguez Passage\\nPort Jacobville, PR 3...</td>\n",
       "      <td>MediumAquaMarine</td>\n",
       "      <td>33.330673</td>\n",
       "      <td>12.795189</td>\n",
       "      <td>37.536653</td>\n",
       "      <td>4.446308</td>\n",
       "      <td>599.406092</td>\n",
       "    </tr>\n",
       "    <tr>\n",
       "      <th>...</th>\n",
       "      <td>...</td>\n",
       "      <td>...</td>\n",
       "      <td>...</td>\n",
       "      <td>...</td>\n",
       "      <td>...</td>\n",
       "      <td>...</td>\n",
       "      <td>...</td>\n",
       "      <td>...</td>\n",
       "    </tr>\n",
       "    <tr>\n",
       "      <th>495</th>\n",
       "      <td>lewisjessica@craig-evans.com</td>\n",
       "      <td>4483 Jones Motorway Suite 872\\nLake Jamiefurt,...</td>\n",
       "      <td>Tan</td>\n",
       "      <td>33.237660</td>\n",
       "      <td>13.566160</td>\n",
       "      <td>36.417985</td>\n",
       "      <td>3.746573</td>\n",
       "      <td>573.847438</td>\n",
       "    </tr>\n",
       "    <tr>\n",
       "      <th>496</th>\n",
       "      <td>katrina56@gmail.com</td>\n",
       "      <td>172 Owen Divide Suite 497\\nWest Richard, CA 19320</td>\n",
       "      <td>PaleVioletRed</td>\n",
       "      <td>34.702529</td>\n",
       "      <td>11.695736</td>\n",
       "      <td>37.190268</td>\n",
       "      <td>3.576526</td>\n",
       "      <td>529.049004</td>\n",
       "    </tr>\n",
       "    <tr>\n",
       "      <th>497</th>\n",
       "      <td>dale88@hotmail.com</td>\n",
       "      <td>0787 Andrews Ranch Apt. 633\\nSouth Chadburgh, ...</td>\n",
       "      <td>Cornsilk</td>\n",
       "      <td>32.646777</td>\n",
       "      <td>11.499409</td>\n",
       "      <td>38.332576</td>\n",
       "      <td>4.958264</td>\n",
       "      <td>551.620145</td>\n",
       "    </tr>\n",
       "    <tr>\n",
       "      <th>498</th>\n",
       "      <td>cwilson@hotmail.com</td>\n",
       "      <td>680 Jennifer Lodge Apt. 808\\nBrendachester, TX...</td>\n",
       "      <td>Teal</td>\n",
       "      <td>33.322501</td>\n",
       "      <td>12.391423</td>\n",
       "      <td>36.840086</td>\n",
       "      <td>2.336485</td>\n",
       "      <td>456.469510</td>\n",
       "    </tr>\n",
       "    <tr>\n",
       "      <th>499</th>\n",
       "      <td>hannahwilson@davidson.com</td>\n",
       "      <td>49791 Rachel Heights Apt. 898\\nEast Drewboroug...</td>\n",
       "      <td>DarkMagenta</td>\n",
       "      <td>33.715981</td>\n",
       "      <td>12.418808</td>\n",
       "      <td>35.771016</td>\n",
       "      <td>2.735160</td>\n",
       "      <td>497.778642</td>\n",
       "    </tr>\n",
       "  </tbody>\n",
       "</table>\n",
       "<p>500 rows × 8 columns</p>\n",
       "</div>"
      ],
      "text/plain": [
       "                             Email  \\\n",
       "0        mstephenson@fernandez.com   \n",
       "1                hduke@hotmail.com   \n",
       "2                 pallen@yahoo.com   \n",
       "3          riverarebecca@gmail.com   \n",
       "4    mstephens@davidson-herman.com   \n",
       "..                             ...   \n",
       "495   lewisjessica@craig-evans.com   \n",
       "496            katrina56@gmail.com   \n",
       "497             dale88@hotmail.com   \n",
       "498            cwilson@hotmail.com   \n",
       "499      hannahwilson@davidson.com   \n",
       "\n",
       "                                               Address            Avatar  \\\n",
       "0         835 Frank Tunnel\\nWrightmouth, MI 82180-9605            Violet   \n",
       "1       4547 Archer Common\\nDiazchester, CA 06566-8576         DarkGreen   \n",
       "2    24645 Valerie Unions Suite 582\\nCobbborough, D...            Bisque   \n",
       "3     1414 David Throughway\\nPort Jason, OH 22070-1220       SaddleBrown   \n",
       "4    14023 Rodriguez Passage\\nPort Jacobville, PR 3...  MediumAquaMarine   \n",
       "..                                                 ...               ...   \n",
       "495  4483 Jones Motorway Suite 872\\nLake Jamiefurt,...               Tan   \n",
       "496  172 Owen Divide Suite 497\\nWest Richard, CA 19320     PaleVioletRed   \n",
       "497  0787 Andrews Ranch Apt. 633\\nSouth Chadburgh, ...          Cornsilk   \n",
       "498  680 Jennifer Lodge Apt. 808\\nBrendachester, TX...              Teal   \n",
       "499  49791 Rachel Heights Apt. 898\\nEast Drewboroug...       DarkMagenta   \n",
       "\n",
       "     Avg. Session Length  Time on App  Time on Website  Length of Membership  \\\n",
       "0              34.497268    12.655651        39.577668              4.082621   \n",
       "1              31.926272    11.109461        37.268959              2.664034   \n",
       "2              33.000915    11.330278        37.110597              4.104543   \n",
       "3              34.305557    13.717514        36.721283              3.120179   \n",
       "4              33.330673    12.795189        37.536653              4.446308   \n",
       "..                   ...          ...              ...                   ...   \n",
       "495            33.237660    13.566160        36.417985              3.746573   \n",
       "496            34.702529    11.695736        37.190268              3.576526   \n",
       "497            32.646777    11.499409        38.332576              4.958264   \n",
       "498            33.322501    12.391423        36.840086              2.336485   \n",
       "499            33.715981    12.418808        35.771016              2.735160   \n",
       "\n",
       "     Yearly Amount Spent  \n",
       "0             587.951054  \n",
       "1             392.204933  \n",
       "2             487.547505  \n",
       "3             581.852344  \n",
       "4             599.406092  \n",
       "..                   ...  \n",
       "495           573.847438  \n",
       "496           529.049004  \n",
       "497           551.620145  \n",
       "498           456.469510  \n",
       "499           497.778642  \n",
       "\n",
       "[500 rows x 8 columns]"
      ]
     },
     "execution_count": 3,
     "metadata": {},
     "output_type": "execute_result"
    }
   ],
   "source": [
    "data"
   ]
  },
  {
   "cell_type": "code",
   "execution_count": 4,
   "id": "a281a1fa",
   "metadata": {
    "execution": {
     "iopub.execute_input": "2022-03-31T12:02:49.538599Z",
     "iopub.status.busy": "2022-03-31T12:02:49.537929Z",
     "iopub.status.idle": "2022-03-31T12:02:49.541272Z",
     "shell.execute_reply": "2022-03-31T12:02:49.540633Z",
     "shell.execute_reply.started": "2022-03-31T09:10:13.176919Z"
    },
    "papermill": {
     "duration": 0.072469,
     "end_time": "2022-03-31T12:02:49.541413",
     "exception": false,
     "start_time": "2022-03-31T12:02:49.468944",
     "status": "completed"
    },
    "tags": []
   },
   "outputs": [
    {
     "name": "stdout",
     "output_type": "stream",
     "text": [
      "<class 'pandas.core.frame.DataFrame'>\n",
      "RangeIndex: 500 entries, 0 to 499\n",
      "Data columns (total 8 columns):\n",
      " #   Column                Non-Null Count  Dtype  \n",
      "---  ------                --------------  -----  \n",
      " 0   Email                 500 non-null    object \n",
      " 1   Address               500 non-null    object \n",
      " 2   Avatar                500 non-null    object \n",
      " 3   Avg. Session Length   500 non-null    float64\n",
      " 4   Time on App           500 non-null    float64\n",
      " 5   Time on Website       500 non-null    float64\n",
      " 6   Length of Membership  500 non-null    float64\n",
      " 7   Yearly Amount Spent   500 non-null    float64\n",
      "dtypes: float64(5), object(3)\n",
      "memory usage: 31.4+ KB\n"
     ]
    }
   ],
   "source": [
    "data.info()"
   ]
  },
  {
   "cell_type": "code",
   "execution_count": 5,
   "id": "9b5f0f89",
   "metadata": {
    "execution": {
     "iopub.execute_input": "2022-03-31T12:02:49.643574Z",
     "iopub.status.busy": "2022-03-31T12:02:49.642876Z",
     "iopub.status.idle": "2022-03-31T12:02:49.646148Z",
     "shell.execute_reply": "2022-03-31T12:02:49.645487Z",
     "shell.execute_reply.started": "2022-03-31T09:10:30.558345Z"
    },
    "papermill": {
     "duration": 0.058269,
     "end_time": "2022-03-31T12:02:49.646294",
     "exception": false,
     "start_time": "2022-03-31T12:02:49.588025",
     "status": "completed"
    },
    "tags": []
   },
   "outputs": [
    {
     "data": {
      "text/plain": [
       "Email                   0\n",
       "Address                 0\n",
       "Avatar                  0\n",
       "Avg. Session Length     0\n",
       "Time on App             0\n",
       "Time on Website         0\n",
       "Length of Membership    0\n",
       "Yearly Amount Spent     0\n",
       "dtype: int64"
      ]
     },
     "execution_count": 5,
     "metadata": {},
     "output_type": "execute_result"
    }
   ],
   "source": [
    "data.isnull().sum()"
   ]
  },
  {
   "cell_type": "code",
   "execution_count": 6,
   "id": "8bee6460",
   "metadata": {
    "execution": {
     "iopub.execute_input": "2022-03-31T12:02:49.859038Z",
     "iopub.status.busy": "2022-03-31T12:02:49.858281Z",
     "iopub.status.idle": "2022-03-31T12:02:49.869992Z",
     "shell.execute_reply": "2022-03-31T12:02:49.870610Z",
     "shell.execute_reply.started": "2022-03-31T09:14:14.476274Z"
    },
    "papermill": {
     "duration": 0.06836,
     "end_time": "2022-03-31T12:02:49.870805",
     "exception": false,
     "start_time": "2022-03-31T12:02:49.802445",
     "status": "completed"
    },
    "tags": []
   },
   "outputs": [],
   "source": [
    "data=data.drop(columns=['Email','Address','Avatar'])"
   ]
  },
  {
   "cell_type": "code",
   "execution_count": 7,
   "id": "a6b940a6",
   "metadata": {
    "execution": {
     "iopub.execute_input": "2022-03-31T12:02:49.971748Z",
     "iopub.status.busy": "2022-03-31T12:02:49.970991Z",
     "iopub.status.idle": "2022-03-31T12:02:49.979043Z",
     "shell.execute_reply": "2022-03-31T12:02:49.979616Z",
     "shell.execute_reply.started": "2022-03-31T09:14:50.044482Z"
    },
    "papermill": {
     "duration": 0.060387,
     "end_time": "2022-03-31T12:02:49.979805",
     "exception": false,
     "start_time": "2022-03-31T12:02:49.919418",
     "status": "completed"
    },
    "tags": []
   },
   "outputs": [
    {
     "data": {
      "text/plain": [
       "Avg. Session Length    -0.032175\n",
       "Time on App            -0.089121\n",
       "Time on Website         0.012142\n",
       "Length of Membership   -0.106608\n",
       "Yearly Amount Spent     0.034790\n",
       "dtype: float64"
      ]
     },
     "execution_count": 7,
     "metadata": {},
     "output_type": "execute_result"
    }
   ],
   "source": [
    "data.skew(axis=0)"
   ]
  },
  {
   "cell_type": "code",
   "execution_count": 8,
   "id": "2dcd48a4",
   "metadata": {
    "execution": {
     "iopub.execute_input": "2022-03-31T12:02:50.082982Z",
     "iopub.status.busy": "2022-03-31T12:02:50.082306Z",
     "iopub.status.idle": "2022-03-31T12:02:50.487143Z",
     "shell.execute_reply": "2022-03-31T12:02:50.486493Z",
     "shell.execute_reply.started": "2022-03-31T09:15:21.021343Z"
    },
    "papermill": {
     "duration": 0.457867,
     "end_time": "2022-03-31T12:02:50.487294",
     "exception": false,
     "start_time": "2022-03-31T12:02:50.029427",
     "status": "completed"
    },
    "tags": []
   },
   "outputs": [
    {
     "data": {
      "text/plain": [
       "<AxesSubplot:>"
      ]
     },
     "execution_count": 8,
     "metadata": {},
     "output_type": "execute_result"
    },
    {
     "data": {
      "image/png": "[encoded data removed]",
      "text/plain": [
       "<Figure size 432x288 with 2 Axes>"
      ]
     },
     "metadata": {
      "needs_background": "light"
     },
     "output_type": "display_data"
    }
   ],
   "source": [
    "corr_mat=data.corr()\n",
    "sns.heatmap(corr_mat,annot = True)"
   ]
  },
  {
   "cell_type": "markdown",
   "id": "b4ce5735",
   "metadata": {},
   "source": [
    "#### Checking whether data is normally distributed or not by qq plot."
   ]
  },
  {
   "cell_type": "code",
   "execution_count": 9,
   "id": "ff671fc5",
   "metadata": {
    "execution": {
     "iopub.execute_input": "2022-03-31T12:02:50.595458Z",
     "iopub.status.busy": "2022-03-31T12:02:50.594562Z",
     "iopub.status.idle": "2022-03-31T12:02:50.600097Z",
     "shell.execute_reply": "2022-03-31T12:02:50.600713Z",
     "shell.execute_reply.started": "2022-03-31T09:18:17.270310Z"
    },
    "papermill": {
     "duration": 0.061803,
     "end_time": "2022-03-31T12:02:50.600902",
     "exception": false,
     "start_time": "2022-03-31T12:02:50.539099",
     "status": "completed"
    },
    "tags": []
   },
   "outputs": [],
   "source": [
    "import matplotlib.pyplot as plt\n",
    "import scipy.stats as st\n",
    "import pylab"
   ]
  },
  {
   "cell_type": "code",
   "execution_count": 10,
   "id": "316fc063",
   "metadata": {
    "execution": {
     "iopub.execute_input": "2022-03-31T12:02:50.705997Z",
     "iopub.status.busy": "2022-03-31T12:02:50.705175Z",
     "iopub.status.idle": "2022-03-31T12:02:51.526958Z",
     "shell.execute_reply": "2022-03-31T12:02:51.527522Z",
     "shell.execute_reply.started": "2022-03-31T09:18:20.300655Z"
    },
    "papermill": {
     "duration": 0.875864,
     "end_time": "2022-03-31T12:02:51.527724",
     "exception": false,
     "start_time": "2022-03-31T12:02:50.651860",
     "status": "completed"
    },
    "tags": []
   },
   "outputs": [
    {
     "data": {
      "image/png": "[encoded data removed]",
      "text/plain": [
       "<Figure size 1440x1800 with 4 Axes>"
      ]
     },
     "metadata": {},
     "output_type": "display_data"
    }
   ],
   "source": [
    "plt.figure(figsize=(20,25),facecolor='white')\n",
    "plotnumber = 1\n",
    "\n",
    "for column in data:\n",
    "    if plotnumber<=4:\n",
    "        ax=plt.subplot(4,4,plotnumber)\n",
    "        st.probplot(data[column],dist='norm',plot=pylab)\n",
    "        plt.xlabel(column,fontsize=20)\n",
    "        \n",
    "        plotnumber+=1\n",
    "plt.tight_layout()"
   ]
  },
  {
   "cell_type": "markdown",
   "id": "9aade212",
   "metadata": {},
   "source": [
    "#### Feature selection."
   ]
  },
  {
   "cell_type": "code",
   "execution_count": 11,
   "id": "545b66a9",
   "metadata": {
    "execution": {
     "iopub.execute_input": "2022-03-31T12:02:51.760168Z",
     "iopub.status.busy": "2022-03-31T12:02:51.759459Z",
     "iopub.status.idle": "2022-03-31T12:02:51.762490Z",
     "shell.execute_reply": "2022-03-31T12:02:51.761812Z",
     "shell.execute_reply.started": "2022-03-31T09:20:42.673660Z"
    },
    "papermill": {
     "duration": 0.064037,
     "end_time": "2022-03-31T12:02:51.762669",
     "exception": false,
     "start_time": "2022-03-31T12:02:51.698632",
     "status": "completed"
    },
    "tags": []
   },
   "outputs": [],
   "source": [
    "y=data['Yearly Amount Spent']\n",
    "X=data.drop(columns=['Yearly Amount Spent'])"
   ]
  },
  {
   "cell_type": "markdown",
   "id": "137d3f3f",
   "metadata": {},
   "source": [
    "#### Scaling, spliting and fitting linear regression model."
   ]
  },
  {
   "cell_type": "code",
   "execution_count": 12,
   "id": "cd3e95ac",
   "metadata": {
    "execution": {
     "iopub.execute_input": "2022-03-31T12:02:52.260979Z",
     "iopub.status.busy": "2022-03-31T12:02:52.260131Z",
     "iopub.status.idle": "2022-03-31T12:02:52.268878Z",
     "shell.execute_reply": "2022-03-31T12:02:52.268240Z",
     "shell.execute_reply.started": "2022-03-31T09:21:42.067311Z"
    },
    "papermill": {
     "duration": 0.068167,
     "end_time": "2022-03-31T12:02:52.269047",
     "exception": false,
     "start_time": "2022-03-31T12:02:52.200880",
     "status": "completed"
    },
    "tags": []
   },
   "outputs": [
    {
     "data": {
      "text/plain": [
       "LinearRegression()"
      ]
     },
     "execution_count": 12,
     "metadata": {},
     "output_type": "execute_result"
    }
   ],
   "source": [
    "scaler= StandardScaler()\n",
    "x_scaled = scaler.fit_transform(X)\n",
    "\n",
    "\n",
    "x_train,x_test,y_train,y_test= train_test_split(x_scaled,y,test_size=0.25,random_state=200)\n",
    "\n",
    "\n",
    "reg=LinearRegression()\n",
    "reg.fit(x_train,y_train)"
   ]
  },
  {
   "cell_type": "markdown",
   "id": "36ff14f7",
   "metadata": {},
   "source": [
    "#### Checking for performance."
   ]
  },
  {
   "cell_type": "code",
   "execution_count": 13,
   "id": "2f85b73d",
   "metadata": {
    "execution": {
     "iopub.execute_input": "2022-03-31T12:02:52.759272Z",
     "iopub.status.busy": "2022-03-31T12:02:52.758224Z",
     "iopub.status.idle": "2022-03-31T12:02:52.763723Z",
     "shell.execute_reply": "2022-03-31T12:02:52.764282Z",
     "shell.execute_reply.started": "2022-03-31T09:23:21.060315Z"
    },
    "papermill": {
     "duration": 0.065191,
     "end_time": "2022-03-31T12:02:52.764471",
     "exception": false,
     "start_time": "2022-03-31T12:02:52.699280",
     "status": "completed"
    },
    "tags": []
   },
   "outputs": [
    {
     "data": {
      "text/plain": [
       "0.9832613455299134"
      ]
     },
     "execution_count": 13,
     "metadata": {},
     "output_type": "execute_result"
    }
   ],
   "source": [
    "reg.score(x_train,y_train)"
   ]
  },
  {
   "cell_type": "code",
   "execution_count": 14,
   "id": "d9131b0b",
   "metadata": {
    "execution": {
     "iopub.execute_input": "2022-03-31T12:02:52.882907Z",
     "iopub.status.busy": "2022-03-31T12:02:52.882087Z",
     "iopub.status.idle": "2022-03-31T12:02:52.884958Z",
     "shell.execute_reply": "2022-03-31T12:02:52.885469Z",
     "shell.execute_reply.started": "2022-03-31T09:23:45.515670Z"
    },
    "papermill": {
     "duration": 0.064819,
     "end_time": "2022-03-31T12:02:52.885668",
     "exception": false,
     "start_time": "2022-03-31T12:02:52.820849",
     "status": "completed"
    },
    "tags": []
   },
   "outputs": [
    {
     "data": {
      "text/plain": [
       "0.9867119074130755"
      ]
     },
     "execution_count": 14,
     "metadata": {},
     "output_type": "execute_result"
    }
   ],
   "source": [
    "reg.score(x_test,y_test)"
   ]
  },
  {
   "cell_type": "code",
   "execution_count": 15,
   "id": "8a588bae",
   "metadata": {
    "execution": {
     "iopub.execute_input": "2022-03-31T12:02:53.002636Z",
     "iopub.status.busy": "2022-03-31T12:02:53.001529Z",
     "iopub.status.idle": "2022-03-31T12:02:53.007285Z",
     "shell.execute_reply": "2022-03-31T12:02:53.007920Z",
     "shell.execute_reply.started": "2022-03-31T09:24:34.279506Z"
    },
    "papermill": {
     "duration": 0.065776,
     "end_time": "2022-03-31T12:02:53.008106",
     "exception": false,
     "start_time": "2022-03-31T12:02:52.942330",
     "status": "completed"
    },
    "tags": []
   },
   "outputs": [],
   "source": [
    "def adj_r2(x,y):\n",
    "    r2=reg.score(x,y)\n",
    "    n = x.shape[0]\n",
    "    p = x.shape[1]\n",
    "    adjusted_r2 = 1-(1-r2)*(n-1)/(n-p-1)\n",
    "    return adjusted_r2"
   ]
  },
  {
   "cell_type": "code",
   "execution_count": 16,
   "id": "d16eb945",
   "metadata": {
    "execution": {
     "iopub.execute_input": "2022-03-31T12:02:53.124839Z",
     "iopub.status.busy": "2022-03-31T12:02:53.123806Z",
     "iopub.status.idle": "2022-03-31T12:02:53.130431Z",
     "shell.execute_reply": "2022-03-31T12:02:53.131073Z",
     "shell.execute_reply.started": "2022-03-31T09:24:59.516744Z"
    },
    "papermill": {
     "duration": 0.067553,
     "end_time": "2022-03-31T12:02:53.131250",
     "exception": false,
     "start_time": "2022-03-31T12:02:53.063697",
     "status": "completed"
    },
    "tags": []
   },
   "outputs": [
    {
     "data": {
      "text/plain": [
       "0.9862689709935113"
      ]
     },
     "execution_count": 16,
     "metadata": {},
     "output_type": "execute_result"
    }
   ],
   "source": [
    "adj_r2(x_test,y_test)"
   ]
  },
  {
   "cell_type": "code",
   "execution_count": 17,
   "id": "0176621e",
   "metadata": {
    "execution": {
     "iopub.execute_input": "2022-03-31T12:02:53.246878Z",
     "iopub.status.busy": "2022-03-31T12:02:53.245786Z",
     "iopub.status.idle": "2022-03-31T12:02:53.255511Z",
     "shell.execute_reply": "2022-03-31T12:02:53.255989Z",
     "shell.execute_reply.started": "2022-03-31T09:25:23.071172Z"
    },
    "papermill": {
     "duration": 0.069415,
     "end_time": "2022-03-31T12:02:53.256176",
     "exception": false,
     "start_time": "2022-03-31T12:02:53.186761",
     "status": "completed"
    },
    "tags": []
   },
   "outputs": [],
   "source": [
    "y_pred=reg.predict(x_test)"
   ]
  },
  {
   "cell_type": "markdown",
   "id": "2e3c5b49",
   "metadata": {},
   "source": [
    "#### Checking for error in our data."
   ]
  },
  {
   "cell_type": "code",
   "execution_count": 18,
   "id": "e07af04d",
   "metadata": {
    "execution": {
     "iopub.execute_input": "2022-03-31T12:02:53.371685Z",
     "iopub.status.busy": "2022-03-31T12:02:53.371018Z",
     "iopub.status.idle": "2022-03-31T12:02:53.377268Z",
     "shell.execute_reply": "2022-03-31T12:02:53.377759Z",
     "shell.execute_reply.started": "2022-03-31T09:25:40.318772Z"
    },
    "papermill": {
     "duration": 0.065649,
     "end_time": "2022-03-31T12:02:53.377947",
     "exception": false,
     "start_time": "2022-03-31T12:02:53.312298",
     "status": "completed"
    },
    "tags": []
   },
   "outputs": [
    {
     "data": {
      "text/plain": [
       "97.20358794330245"
      ]
     },
     "execution_count": 18,
     "metadata": {},
     "output_type": "execute_result"
    }
   ],
   "source": [
    "mean_squared_error(y_test,y_pred)"
   ]
  },
  {
   "cell_type": "code",
   "execution_count": 19,
   "id": "67d0652b",
   "metadata": {
    "execution": {
     "iopub.execute_input": "2022-03-31T12:02:53.620680Z",
     "iopub.status.busy": "2022-03-31T12:02:53.619986Z",
     "iopub.status.idle": "2022-03-31T12:02:53.626505Z",
     "shell.execute_reply": "2022-03-31T12:02:53.627303Z",
     "shell.execute_reply.started": "2022-03-31T09:26:08.390375Z"
    },
    "papermill": {
     "duration": 0.069295,
     "end_time": "2022-03-31T12:02:53.627503",
     "exception": false,
     "start_time": "2022-03-31T12:02:53.558208",
     "status": "completed"
    },
    "tags": []
   },
   "outputs": [
    {
     "data": {
      "text/plain": [
       "7.554315044224645"
      ]
     },
     "execution_count": 19,
     "metadata": {},
     "output_type": "execute_result"
    }
   ],
   "source": [
    "mean_absolute_error(y_test, y_pred)"
   ]
  },
  {
   "cell_type": "code",
   "execution_count": 20,
   "id": "81c533d9",
   "metadata": {
    "execution": {
     "iopub.execute_input": "2022-03-31T12:02:53.749365Z",
     "iopub.status.busy": "2022-03-31T12:02:53.748626Z",
     "iopub.status.idle": "2022-03-31T12:02:53.752319Z",
     "shell.execute_reply": "2022-03-31T12:02:53.752798Z",
     "shell.execute_reply.started": "2022-03-31T09:27:48.668317Z"
    },
    "papermill": {
     "duration": 0.068291,
     "end_time": "2022-03-31T12:02:53.752981",
     "exception": false,
     "start_time": "2022-03-31T12:02:53.684690",
     "status": "completed"
    },
    "tags": []
   },
   "outputs": [
    {
     "data": {
      "text/plain": [
       "1.5477712071451062"
      ]
     },
     "execution_count": 20,
     "metadata": {},
     "output_type": "execute_result"
    }
   ],
   "source": [
    "mean_absolute_percentage_error(y_test,y_pred)*100"
   ]
  },
  {
   "cell_type": "markdown",
   "id": "d8febd2c",
   "metadata": {},
   "source": [
    "### Model got very good preformance so to check whether model is overfitting or not using lasso, ridge, elsticnet"
   ]
  },
  {
   "cell_type": "markdown",
   "id": "e1a8bb5b",
   "metadata": {},
   "source": [
    "#### 1) Lasso"
   ]
  },
  {
   "cell_type": "code",
   "execution_count": 21,
   "id": "9305219f",
   "metadata": {
    "execution": {
     "iopub.execute_input": "2022-03-31T12:02:53.872149Z",
     "iopub.status.busy": "2022-03-31T12:02:53.871412Z",
     "iopub.status.idle": "2022-03-31T12:02:53.990461Z",
     "shell.execute_reply": "2022-03-31T12:02:53.991100Z",
     "shell.execute_reply.started": "2022-03-31T09:37:06.827360Z"
    },
    "papermill": {
     "duration": 0.180574,
     "end_time": "2022-03-31T12:02:53.991278",
     "exception": false,
     "start_time": "2022-03-31T12:02:53.810704",
     "status": "completed"
    },
    "tags": []
   },
   "outputs": [
    {
     "name": "stderr",
     "output_type": "stream",
     "text": [
      "C:\\Users\\harme\\Anaconda3\\lib\\site-packages\\sklearn\\linear_model\\_base.py:141: FutureWarning: 'normalize' was deprecated in version 1.0 and will be removed in 1.2.\n",
      "If you wish to scale the data, use Pipeline with a StandardScaler in a preprocessing stage. To reproduce the previous behavior:\n",
      "\n",
      "from sklearn.pipeline import make_pipeline\n",
      "\n",
      "model = make_pipeline(StandardScaler(with_mean=False), Lasso())\n",
      "\n",
      "If you wish to pass a sample_weight parameter, you need to pass it as a fit parameter to each step of the pipeline as follows:\n",
      "\n",
      "kwargs = {s[0] + '__sample_weight': sample_weight for s in model.steps}\n",
      "model.fit(X, y, **kwargs)\n",
      "\n",
      "Set parameter alpha to: original_alpha * np.sqrt(n_samples). \n",
      "  warnings.warn(\n"
     ]
    },
    {
     "data": {
      "text/plain": [
       "LassoCV(cv=10, max_iter=100000, normalize=True)"
      ]
     },
     "execution_count": 21,
     "metadata": {},
     "output_type": "execute_result"
    }
   ],
   "source": [
    "lasscv = LassoCV(alphas = None,cv =10, max_iter = 100000, normalize = True)\n",
    "lasscv.fit(x_train, y_train)"
   ]
  },
  {
   "cell_type": "code",
   "execution_count": 22,
   "id": "837bb0c6",
   "metadata": {
    "execution": {
     "iopub.execute_input": "2022-03-31T12:02:54.115270Z",
     "iopub.status.busy": "2022-03-31T12:02:54.114601Z",
     "iopub.status.idle": "2022-03-31T12:02:54.119903Z",
     "shell.execute_reply": "2022-03-31T12:02:54.120446Z",
     "shell.execute_reply.started": "2022-03-31T09:37:24.565067Z"
    },
    "papermill": {
     "duration": 0.069315,
     "end_time": "2022-03-31T12:02:54.120625",
     "exception": false,
     "start_time": "2022-03-31T12:02:54.051310",
     "status": "completed"
    },
    "tags": []
   },
   "outputs": [
    {
     "data": {
      "text/plain": [
       "0.0032147159022486013"
      ]
     },
     "execution_count": 22,
     "metadata": {},
     "output_type": "execute_result"
    }
   ],
   "source": [
    "alpha = lasscv.alpha_\n",
    "alpha"
   ]
  },
  {
   "cell_type": "code",
   "execution_count": 23,
   "id": "00b80f36",
   "metadata": {
    "execution": {
     "iopub.execute_input": "2022-03-31T12:02:54.241765Z",
     "iopub.status.busy": "2022-03-31T12:02:54.241043Z",
     "iopub.status.idle": "2022-03-31T12:02:54.247484Z",
     "shell.execute_reply": "2022-03-31T12:02:54.248069Z",
     "shell.execute_reply.started": "2022-03-31T09:38:00.020031Z"
    },
    "papermill": {
     "duration": 0.069054,
     "end_time": "2022-03-31T12:02:54.248296",
     "exception": false,
     "start_time": "2022-03-31T12:02:54.179242",
     "status": "completed"
    },
    "tags": []
   },
   "outputs": [
    {
     "data": {
      "text/plain": [
       "Lasso(alpha=0.0032147159022486013)"
      ]
     },
     "execution_count": 23,
     "metadata": {},
     "output_type": "execute_result"
    }
   ],
   "source": [
    "lasso_reg = Lasso(alpha)\n",
    "lasso_reg.fit(x_train, y_train)"
   ]
  },
  {
   "cell_type": "code",
   "execution_count": 24,
   "id": "9b8ef335",
   "metadata": {
    "execution": {
     "iopub.execute_input": "2022-03-31T12:02:54.370174Z",
     "iopub.status.busy": "2022-03-31T12:02:54.369392Z",
     "iopub.status.idle": "2022-03-31T12:02:54.375729Z",
     "shell.execute_reply": "2022-03-31T12:02:54.376247Z",
     "shell.execute_reply.started": "2022-03-31T09:38:15.690088Z"
    },
    "papermill": {
     "duration": 0.068932,
     "end_time": "2022-03-31T12:02:54.376419",
     "exception": false,
     "start_time": "2022-03-31T12:02:54.307487",
     "status": "completed"
    },
    "tags": []
   },
   "outputs": [
    {
     "data": {
      "text/plain": [
       "0.9867114309573217"
      ]
     },
     "execution_count": 24,
     "metadata": {},
     "output_type": "execute_result"
    }
   ],
   "source": [
    "lasso_reg.score(x_test, y_test)"
   ]
  },
  {
   "cell_type": "markdown",
   "id": "6a2725dc",
   "metadata": {},
   "source": [
    "#### 2) Ridge"
   ]
  },
  {
   "cell_type": "code",
   "execution_count": 25,
   "id": "3888b083",
   "metadata": {
    "execution": {
     "iopub.execute_input": "2022-03-31T12:02:54.627698Z",
     "iopub.status.busy": "2022-03-31T12:02:54.626956Z",
     "iopub.status.idle": "2022-03-31T12:02:54.696802Z",
     "shell.execute_reply": "2022-03-31T12:02:54.696186Z",
     "shell.execute_reply.started": "2022-03-31T12:00:41.156477Z"
    },
    "papermill": {
     "duration": 0.132846,
     "end_time": "2022-03-31T12:02:54.696953",
     "exception": false,
     "start_time": "2022-03-31T12:02:54.564107",
     "status": "completed"
    },
    "tags": []
   },
   "outputs": [
    {
     "data": {
      "text/plain": [
       "RidgeCV(alphas=array([0.003, 0.01 , 0.1  ]), cv=10)"
      ]
     },
     "execution_count": 25,
     "metadata": {},
     "output_type": "execute_result"
    }
   ],
   "source": [
    "ridgecv = RidgeCV(alphas =(0.003,0.01,0.1),cv=10)\n",
    "ridgecv.fit(x_train,y_train)"
   ]
  },
  {
   "cell_type": "code",
   "execution_count": 26,
   "id": "cf943853",
   "metadata": {
    "execution": {
     "iopub.execute_input": "2022-03-31T12:02:54.821943Z",
     "iopub.status.busy": "2022-03-31T12:02:54.821156Z",
     "iopub.status.idle": "2022-03-31T12:02:54.826002Z",
     "shell.execute_reply": "2022-03-31T12:02:54.826590Z",
     "shell.execute_reply.started": "2022-03-31T12:01:31.104916Z"
    },
    "papermill": {
     "duration": 0.068919,
     "end_time": "2022-03-31T12:02:54.826795",
     "exception": false,
     "start_time": "2022-03-31T12:02:54.757876",
     "status": "completed"
    },
    "tags": []
   },
   "outputs": [
    {
     "data": {
      "text/plain": [
       "0.1"
      ]
     },
     "execution_count": 26,
     "metadata": {},
     "output_type": "execute_result"
    }
   ],
   "source": [
    "ridgecv.alpha_"
   ]
  },
  {
   "cell_type": "code",
   "execution_count": 27,
   "id": "d9f96c6a",
   "metadata": {
    "execution": {
     "iopub.execute_input": "2022-03-31T12:02:54.954330Z",
     "iopub.status.busy": "2022-03-31T12:02:54.953612Z",
     "iopub.status.idle": "2022-03-31T12:02:54.961867Z",
     "shell.execute_reply": "2022-03-31T12:02:54.962387Z",
     "shell.execute_reply.started": "2022-03-31T12:01:44.997672Z"
    },
    "papermill": {
     "duration": 0.073871,
     "end_time": "2022-03-31T12:02:54.962560",
     "exception": false,
     "start_time": "2022-03-31T12:02:54.888689",
     "status": "completed"
    },
    "tags": []
   },
   "outputs": [
    {
     "data": {
      "text/plain": [
       "Ridge(alpha=0.1)"
      ]
     },
     "execution_count": 27,
     "metadata": {},
     "output_type": "execute_result"
    }
   ],
   "source": [
    "ridge_model = Ridge(alpha=ridgecv.alpha_)\n",
    "ridge_model.fit(x_train, y_train)"
   ]
  },
  {
   "cell_type": "code",
   "execution_count": 28,
   "id": "5c9b77a1",
   "metadata": {
    "execution": {
     "iopub.execute_input": "2022-03-31T12:02:55.090744Z",
     "iopub.status.busy": "2022-03-31T12:02:55.089714Z",
     "iopub.status.idle": "2022-03-31T12:02:55.096287Z",
     "shell.execute_reply": "2022-03-31T12:02:55.096865Z",
     "shell.execute_reply.started": "2022-03-31T12:01:59.529785Z"
    },
    "papermill": {
     "duration": 0.072016,
     "end_time": "2022-03-31T12:02:55.097040",
     "exception": false,
     "start_time": "2022-03-31T12:02:55.025024",
     "status": "completed"
    },
    "tags": []
   },
   "outputs": [
    {
     "data": {
      "text/plain": [
       "0.986708399059923"
      ]
     },
     "execution_count": 28,
     "metadata": {},
     "output_type": "execute_result"
    }
   ],
   "source": [
    "ridge_model.score(x_test, y_test)"
   ]
  },
  {
   "cell_type": "markdown",
   "id": "2c3b7938",
   "metadata": {},
   "source": [
    "#### 3) Elasticnet"
   ]
  },
  {
   "cell_type": "code",
   "execution_count": 29,
   "id": "2c4f7395",
   "metadata": {
    "execution": {
     "iopub.execute_input": "2022-03-31T12:02:55.224475Z",
     "iopub.status.busy": "2022-03-31T12:02:55.223455Z",
     "iopub.status.idle": "2022-03-31T12:02:55.331619Z",
     "shell.execute_reply": "2022-03-31T12:02:55.330950Z",
     "shell.execute_reply.started": "2022-03-31T09:46:48.257599Z"
    },
    "papermill": {
     "duration": 0.172442,
     "end_time": "2022-03-31T12:02:55.331780",
     "exception": false,
     "start_time": "2022-03-31T12:02:55.159338",
     "status": "completed"
    },
    "tags": []
   },
   "outputs": [
    {
     "data": {
      "text/plain": [
       "ElasticNetCV(cv=10)"
      ]
     },
     "execution_count": 29,
     "metadata": {},
     "output_type": "execute_result"
    }
   ],
   "source": [
    "elasticCV = ElasticNetCV(alphas = None, cv =10)\n",
    "\n",
    "elasticCV.fit(x_train, y_train)"
   ]
  },
  {
   "cell_type": "code",
   "execution_count": 30,
   "id": "6873a718",
   "metadata": {
    "execution": {
     "iopub.execute_input": "2022-03-31T12:02:55.461273Z",
     "iopub.status.busy": "2022-03-31T12:02:55.460264Z",
     "iopub.status.idle": "2022-03-31T12:02:55.465788Z",
     "shell.execute_reply": "2022-03-31T12:02:55.466297Z",
     "shell.execute_reply.started": "2022-03-31T09:49:30.253968Z"
    },
    "papermill": {
     "duration": 0.071449,
     "end_time": "2022-03-31T12:02:55.466493",
     "exception": false,
     "start_time": "2022-03-31T12:02:55.395044",
     "status": "completed"
    },
    "tags": []
   },
   "outputs": [
    {
     "data": {
      "text/plain": [
       "0.12299957661056886"
      ]
     },
     "execution_count": 30,
     "metadata": {},
     "output_type": "execute_result"
    }
   ],
   "source": [
    "elasticCV.alpha_"
   ]
  },
  {
   "cell_type": "code",
   "execution_count": 31,
   "id": "b8be4046",
   "metadata": {
    "execution": {
     "iopub.execute_input": "2022-03-31T12:02:55.603949Z",
     "iopub.status.busy": "2022-03-31T12:02:55.603233Z",
     "iopub.status.idle": "2022-03-31T12:02:55.605955Z",
     "shell.execute_reply": "2022-03-31T12:02:55.606478Z",
     "shell.execute_reply.started": "2022-03-31T09:49:54.856685Z"
    },
    "papermill": {
     "duration": 0.074845,
     "end_time": "2022-03-31T12:02:55.606671",
     "exception": false,
     "start_time": "2022-03-31T12:02:55.531826",
     "status": "completed"
    },
    "tags": []
   },
   "outputs": [
    {
     "data": {
      "text/plain": [
       "0.5"
      ]
     },
     "execution_count": 31,
     "metadata": {},
     "output_type": "execute_result"
    }
   ],
   "source": [
    "elasticCV.l1_ratio"
   ]
  },
  {
   "cell_type": "code",
   "execution_count": 32,
   "id": "6db27950",
   "metadata": {
    "execution": {
     "iopub.execute_input": "2022-03-31T12:02:55.738753Z",
     "iopub.status.busy": "2022-03-31T12:02:55.738061Z",
     "iopub.status.idle": "2022-03-31T12:02:55.745412Z",
     "shell.execute_reply": "2022-03-31T12:02:55.746138Z",
     "shell.execute_reply.started": "2022-03-31T09:50:08.215787Z"
    },
    "papermill": {
     "duration": 0.075317,
     "end_time": "2022-03-31T12:02:55.746348",
     "exception": false,
     "start_time": "2022-03-31T12:02:55.671031",
     "status": "completed"
    },
    "tags": []
   },
   "outputs": [
    {
     "data": {
      "text/plain": [
       "ElasticNet(alpha=0.12299957661056886)"
      ]
     },
     "execution_count": 32,
     "metadata": {},
     "output_type": "execute_result"
    }
   ],
   "source": [
    "elasticnet_reg = ElasticNet(alpha = elasticCV.alpha_,l1_ratio=0.5)\n",
    "elasticnet_reg.fit(x_train, y_train)"
   ]
  },
  {
   "cell_type": "code",
   "execution_count": 33,
   "id": "13c8d6cb",
   "metadata": {
    "execution": {
     "iopub.execute_input": "2022-03-31T12:02:55.877913Z",
     "iopub.status.busy": "2022-03-31T12:02:55.877078Z",
     "iopub.status.idle": "2022-03-31T12:02:55.882887Z",
     "shell.execute_reply": "2022-03-31T12:02:55.883429Z",
     "shell.execute_reply.started": "2022-03-31T09:50:28.719921Z"
    },
    "papermill": {
     "duration": 0.073159,
     "end_time": "2022-03-31T12:02:55.883614",
     "exception": false,
     "start_time": "2022-03-31T12:02:55.810455",
     "status": "completed"
    },
    "tags": []
   },
   "outputs": [
    {
     "data": {
      "text/plain": [
       "0.9824764405794025"
      ]
     },
     "execution_count": 33,
     "metadata": {},
     "output_type": "execute_result"
    }
   ],
   "source": [
    "elasticnet_reg.score(x_test, y_test)"
   ]
  },
  {
   "cell_type": "markdown",
   "id": "df62c03c",
   "metadata": {},
   "source": [
    "### Values of lasso, ridge, elasticnet are nearly same as linear regression model. so, this means there is no overfitting and we got ourselves best model. "
   ]
  }
 ],
 "metadata": {
  "kernelspec": {
   "display_name": "Python 3",
   "language": "python",
   "name": "python3"
  },
  "language_info": {
   "codemirror_mode": {
    "name": "ipython",
    "version": 3
   },
   "file_extension": ".py",
   "mimetype": "text/x-python",
   "name": "python",
   "nbconvert_exporter": "python",
   "pygments_lexer": "ipython3",
   "version": "3.8.8"
  },
  "papermill": {
   "default_parameters": {},
   "duration": 22.569164,
   "end_time": "2022-03-31T12:02:59.971092",
   "environment_variables": {},
   "exception": null,
   "input_path": "__notebook__.ipynb",
   "output_path": "__notebook__.ipynb",
   "parameters": {},
   "start_time": "2022-03-31T12:02:37.401928",
   "version": "2.3.3"
  }
 },
 "nbformat": 4,
 "nbformat_minor": 5
}
