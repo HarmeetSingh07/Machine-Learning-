{
 "cells": [
  {
   "cell_type": "markdown",
   "id": "848d7aa8",
   "metadata": {},
   "source": [
    "## For this hackathon i'm using auotml as it gives best fit model over number of iteration with every regressor model"
   ]
  },
  {
   "cell_type": "markdown",
   "id": "218be52a",
   "metadata": {},
   "source": [
    "#### Importing Libraries"
   ]
  },
  {
   "cell_type": "code",
   "execution_count": 1,
   "id": "6ff0c928",
   "metadata": {},
   "outputs": [],
   "source": [
    "import pandas as pd \n",
    "import numpy as np"
   ]
  },
  {
   "cell_type": "markdown",
   "id": "44786370",
   "metadata": {},
   "source": [
    "#### Reading Data"
   ]
  },
  {
   "cell_type": "code",
   "execution_count": 2,
   "id": "5913d93c",
   "metadata": {},
   "outputs": [
    {
     "data": {
      "text/html": [
       "<div>\n",
       "<style scoped>\n",
       "    .dataframe tbody tr th:only-of-type {\n",
       "        vertical-align: middle;\n",
       "    }\n",
       "\n",
       "    .dataframe tbody tr th {\n",
       "        vertical-align: top;\n",
       "    }\n",
       "\n",
       "    .dataframe thead th {\n",
       "        text-align: right;\n",
       "    }\n",
       "</style>\n",
       "<table border=\"1\" class=\"dataframe\">\n",
       "  <thead>\n",
       "    <tr style=\"text-align: right;\">\n",
       "      <th></th>\n",
       "      <th>date</th>\n",
       "      <th>hour</th>\n",
       "      <th>demand</th>\n",
       "    </tr>\n",
       "  </thead>\n",
       "  <tbody>\n",
       "    <tr>\n",
       "      <th>0</th>\n",
       "      <td>2018-08-18</td>\n",
       "      <td>9</td>\n",
       "      <td>91</td>\n",
       "    </tr>\n",
       "    <tr>\n",
       "      <th>1</th>\n",
       "      <td>2018-08-18</td>\n",
       "      <td>10</td>\n",
       "      <td>21</td>\n",
       "    </tr>\n",
       "    <tr>\n",
       "      <th>2</th>\n",
       "      <td>2018-08-18</td>\n",
       "      <td>13</td>\n",
       "      <td>23</td>\n",
       "    </tr>\n",
       "    <tr>\n",
       "      <th>3</th>\n",
       "      <td>2018-08-18</td>\n",
       "      <td>14</td>\n",
       "      <td>104</td>\n",
       "    </tr>\n",
       "    <tr>\n",
       "      <th>4</th>\n",
       "      <td>2018-08-18</td>\n",
       "      <td>15</td>\n",
       "      <td>81</td>\n",
       "    </tr>\n",
       "  </tbody>\n",
       "</table>\n",
       "</div>"
      ],
      "text/plain": [
       "         date  hour  demand\n",
       "0  2018-08-18     9      91\n",
       "1  2018-08-18    10      21\n",
       "2  2018-08-18    13      23\n",
       "3  2018-08-18    14     104\n",
       "4  2018-08-18    15      81"
      ]
     },
     "execution_count": 2,
     "metadata": {},
     "output_type": "execute_result"
    }
   ],
   "source": [
    "train = pd.read_csv(\"D:/Data/Hackathon/AV/train_.csv\")\n",
    "train.head()"
   ]
  },
  {
   "cell_type": "markdown",
   "id": "b8503c98",
   "metadata": {},
   "source": [
    "#### Checking Shape, Info and for null values"
   ]
  },
  {
   "cell_type": "code",
   "execution_count": 3,
   "id": "fff12c86",
   "metadata": {},
   "outputs": [
    {
     "data": {
      "text/plain": [
       "(18247, 3)"
      ]
     },
     "execution_count": 3,
     "metadata": {},
     "output_type": "execute_result"
    }
   ],
   "source": [
    "train.shape"
   ]
  },
  {
   "cell_type": "code",
   "execution_count": 4,
   "id": "1ed08eed",
   "metadata": {},
   "outputs": [
    {
     "name": "stdout",
     "output_type": "stream",
     "text": [
      "<class 'pandas.core.frame.DataFrame'>\n",
      "RangeIndex: 18247 entries, 0 to 18246\n",
      "Data columns (total 3 columns):\n",
      " #   Column  Non-Null Count  Dtype \n",
      "---  ------  --------------  ----- \n",
      " 0   date    18247 non-null  object\n",
      " 1   hour    18247 non-null  int64 \n",
      " 2   demand  18247 non-null  int64 \n",
      "dtypes: int64(2), object(1)\n",
      "memory usage: 427.8+ KB\n"
     ]
    }
   ],
   "source": [
    "train.info()"
   ]
  },
  {
   "cell_type": "code",
   "execution_count": 5,
   "id": "c0a73fbb",
   "metadata": {},
   "outputs": [
    {
     "data": {
      "text/plain": [
       "date      0\n",
       "hour      0\n",
       "demand    0\n",
       "dtype: int64"
      ]
     },
     "execution_count": 5,
     "metadata": {},
     "output_type": "execute_result"
    }
   ],
   "source": [
    "train.isna().sum()"
   ]
  },
  {
   "cell_type": "markdown",
   "id": "480d7b26",
   "metadata": {},
   "source": [
    "As data is pretty much simple and clear we can proceed with model fitting."
   ]
  },
  {
   "cell_type": "markdown",
   "id": "6ee6b106",
   "metadata": {},
   "source": [
    "This data contains 2 feature columns date and hour.\n",
    "\n",
    "So I'm using regression which will help us giving better model than DecisionTreeRegressor or RandomForestRegressor."
   ]
  },
  {
   "cell_type": "markdown",
   "id": "d22e97cc",
   "metadata": {},
   "source": [
    "#### Applying model"
   ]
  },
  {
   "cell_type": "code",
   "execution_count": 6,
   "id": "cea85a9a",
   "metadata": {},
   "outputs": [],
   "source": [
    "# converting date's column type in datetime format\n",
    "train.date = pd.to_datetime(train['date'])"
   ]
  },
  {
   "cell_type": "code",
   "execution_count": 7,
   "id": "6d46d595",
   "metadata": {},
   "outputs": [],
   "source": [
    "train['year'] = pd.DatetimeIndex(train['date']).year\n",
    "train['month'] = pd.DatetimeIndex(train['date']).month\n",
    "train['day'] = pd.DatetimeIndex(train['date']).day"
   ]
  },
  {
   "cell_type": "code",
   "execution_count": 8,
   "id": "b83e8424",
   "metadata": {},
   "outputs": [
    {
     "data": {
      "text/html": [
       "<div>\n",
       "<style scoped>\n",
       "    .dataframe tbody tr th:only-of-type {\n",
       "        vertical-align: middle;\n",
       "    }\n",
       "\n",
       "    .dataframe tbody tr th {\n",
       "        vertical-align: top;\n",
       "    }\n",
       "\n",
       "    .dataframe thead th {\n",
       "        text-align: right;\n",
       "    }\n",
       "</style>\n",
       "<table border=\"1\" class=\"dataframe\">\n",
       "  <thead>\n",
       "    <tr style=\"text-align: right;\">\n",
       "      <th></th>\n",
       "      <th>hour</th>\n",
       "      <th>demand</th>\n",
       "      <th>year</th>\n",
       "      <th>month</th>\n",
       "      <th>day</th>\n",
       "    </tr>\n",
       "  </thead>\n",
       "  <tbody>\n",
       "    <tr>\n",
       "      <th>0</th>\n",
       "      <td>9</td>\n",
       "      <td>91</td>\n",
       "      <td>2018</td>\n",
       "      <td>8</td>\n",
       "      <td>18</td>\n",
       "    </tr>\n",
       "    <tr>\n",
       "      <th>1</th>\n",
       "      <td>10</td>\n",
       "      <td>21</td>\n",
       "      <td>2018</td>\n",
       "      <td>8</td>\n",
       "      <td>18</td>\n",
       "    </tr>\n",
       "    <tr>\n",
       "      <th>2</th>\n",
       "      <td>13</td>\n",
       "      <td>23</td>\n",
       "      <td>2018</td>\n",
       "      <td>8</td>\n",
       "      <td>18</td>\n",
       "    </tr>\n",
       "    <tr>\n",
       "      <th>3</th>\n",
       "      <td>14</td>\n",
       "      <td>104</td>\n",
       "      <td>2018</td>\n",
       "      <td>8</td>\n",
       "      <td>18</td>\n",
       "    </tr>\n",
       "    <tr>\n",
       "      <th>4</th>\n",
       "      <td>15</td>\n",
       "      <td>81</td>\n",
       "      <td>2018</td>\n",
       "      <td>8</td>\n",
       "      <td>18</td>\n",
       "    </tr>\n",
       "  </tbody>\n",
       "</table>\n",
       "</div>"
      ],
      "text/plain": [
       "   hour  demand  year  month  day\n",
       "0     9      91  2018      8   18\n",
       "1    10      21  2018      8   18\n",
       "2    13      23  2018      8   18\n",
       "3    14     104  2018      8   18\n",
       "4    15      81  2018      8   18"
      ]
     },
     "execution_count": 8,
     "metadata": {},
     "output_type": "execute_result"
    }
   ],
   "source": [
    "train.drop(columns=['date'],inplace = True)\n",
    "train.head()"
   ]
  },
  {
   "cell_type": "markdown",
   "id": "8e000bbb",
   "metadata": {},
   "source": [
    "Using AutoML form flaml because it will give best fit model from numbers of iterations."
   ]
  },
  {
   "cell_type": "code",
   "execution_count": 9,
   "id": "ebfc2198",
   "metadata": {},
   "outputs": [],
   "source": [
    "from flaml import AutoML\n",
    "automl = AutoML()"
   ]
  },
  {
   "cell_type": "code",
   "execution_count": 10,
   "id": "e26b9f05",
   "metadata": {},
   "outputs": [],
   "source": [
    "# selecting feature and traget columns.\n",
    "y = train['demand']\n",
    "X = train.drop(columns='demand')\n",
    "\n",
    "\n",
    "# spliting data into train and test.\n",
    "from sklearn.model_selection import train_test_split\n",
    "X_train, X_test, y_train, y_test = train_test_split(X, y, test_size=0.2, random_state=100)"
   ]
  },
  {
   "cell_type": "code",
   "execution_count": 12,
   "id": "9cecad75",
   "metadata": {},
   "outputs": [],
   "source": [
    "# giving atributes for automl \n",
    "automl_settings = {\n",
    "    \"time_budget\": 50,     # time budget in seconds   \n",
    "    \"metric\": 'mse',       # factor in considration\n",
    "    \"task\": 'regression',      # which model is applied\n",
    "    \"log_file_name\": \"train.log\"          # name of the file\n",
    "}"
   ]
  },
  {
   "cell_type": "code",
   "execution_count": 13,
   "id": "52c1b752",
   "metadata": {
    "scrolled": true
   },
   "outputs": [
    {
     "name": "stderr",
     "output_type": "stream",
     "text": [
      "[flaml.automl: 04-24 00:16:17] {2105} INFO - task = regression\n",
      "[flaml.automl: 04-24 00:16:17] {2107} INFO - Data split method: uniform\n",
      "[flaml.automl: 04-24 00:16:17] {2111} INFO - Evaluation method: cv\n",
      "[flaml.automl: 04-24 00:16:17] {2188} INFO - Minimizing error metric: mse\n",
      "[flaml.automl: 04-24 00:16:17] {2281} INFO - List of ML learners in AutoML Run: ['lgbm', 'rf', 'xgboost', 'extra_tree', 'xgb_limitdepth']\n",
      "[flaml.automl: 04-24 00:16:17] {2567} INFO - iteration 0, current learner lgbm\n",
      "[flaml.automl: 04-24 00:16:17] {2697} INFO - Estimated sufficient time budget=1476s. Estimated necessary time budget=10s.\n",
      "[flaml.automl: 04-24 00:16:17] {2744} INFO -  at 0.2s,\testimator lgbm's best error=1615.5395,\tbest estimator lgbm's best error=1615.5395\n",
      "[flaml.automl: 04-24 00:16:17] {2567} INFO - iteration 1, current learner lgbm\n",
      "[flaml.automl: 04-24 00:16:17] {2744} INFO -  at 0.4s,\testimator lgbm's best error=1615.5395,\tbest estimator lgbm's best error=1615.5395\n",
      "[flaml.automl: 04-24 00:16:17] {2567} INFO - iteration 2, current learner lgbm\n",
      "[flaml.automl: 04-24 00:16:18] {2744} INFO -  at 0.5s,\testimator lgbm's best error=1511.7075,\tbest estimator lgbm's best error=1511.7075\n",
      "[flaml.automl: 04-24 00:16:18] {2567} INFO - iteration 3, current learner xgboost\n",
      "[flaml.automl: 04-24 00:16:18] {2744} INFO -  at 0.6s,\testimator xgboost's best error=3949.5230,\tbest estimator lgbm's best error=1511.7075\n",
      "[flaml.automl: 04-24 00:16:18] {2567} INFO - iteration 4, current learner lgbm\n",
      "[flaml.automl: 04-24 00:16:18] {2744} INFO -  at 0.8s,\testimator lgbm's best error=1364.1269,\tbest estimator lgbm's best error=1364.1269\n",
      "[flaml.automl: 04-24 00:16:18] {2567} INFO - iteration 5, current learner lgbm\n",
      "[flaml.automl: 04-24 00:16:18] {2744} INFO -  at 0.9s,\testimator lgbm's best error=1364.1269,\tbest estimator lgbm's best error=1364.1269\n",
      "[flaml.automl: 04-24 00:16:18] {2567} INFO - iteration 6, current learner lgbm\n",
      "[flaml.automl: 04-24 00:16:18] {2744} INFO -  at 1.1s,\testimator lgbm's best error=1309.7297,\tbest estimator lgbm's best error=1309.7297\n",
      "[flaml.automl: 04-24 00:16:18] {2567} INFO - iteration 7, current learner lgbm\n",
      "[flaml.automl: 04-24 00:16:18] {2744} INFO -  at 1.2s,\testimator lgbm's best error=1309.7297,\tbest estimator lgbm's best error=1309.7297\n",
      "[flaml.automl: 04-24 00:16:18] {2567} INFO - iteration 8, current learner lgbm\n",
      "[flaml.automl: 04-24 00:16:18] {2744} INFO -  at 1.3s,\testimator lgbm's best error=1309.7297,\tbest estimator lgbm's best error=1309.7297\n",
      "[flaml.automl: 04-24 00:16:18] {2567} INFO - iteration 9, current learner lgbm\n",
      "[flaml.automl: 04-24 00:16:19] {2744} INFO -  at 1.5s,\testimator lgbm's best error=1309.7297,\tbest estimator lgbm's best error=1309.7297\n",
      "[flaml.automl: 04-24 00:16:19] {2567} INFO - iteration 10, current learner xgboost\n",
      "[flaml.automl: 04-24 00:16:19] {2744} INFO -  at 1.6s,\testimator xgboost's best error=3949.5230,\tbest estimator lgbm's best error=1309.7297\n",
      "[flaml.automl: 04-24 00:16:19] {2567} INFO - iteration 11, current learner extra_tree\n",
      "[flaml.automl: 04-24 00:16:19] {2744} INFO -  at 1.9s,\testimator extra_tree's best error=1579.4938,\tbest estimator lgbm's best error=1309.7297\n",
      "[flaml.automl: 04-24 00:16:19] {2567} INFO - iteration 12, current learner extra_tree\n",
      "[flaml.automl: 04-24 00:16:19] {2744} INFO -  at 2.2s,\testimator extra_tree's best error=1472.7692,\tbest estimator lgbm's best error=1309.7297\n",
      "[flaml.automl: 04-24 00:16:19] {2567} INFO - iteration 13, current learner rf\n",
      "[flaml.automl: 04-24 00:16:20] {2744} INFO -  at 2.6s,\testimator rf's best error=1509.4194,\tbest estimator lgbm's best error=1309.7297\n",
      "[flaml.automl: 04-24 00:16:20] {2567} INFO - iteration 14, current learner rf\n",
      "[flaml.automl: 04-24 00:16:20] {2744} INFO -  at 3.0s,\testimator rf's best error=1321.6521,\tbest estimator lgbm's best error=1309.7297\n",
      "[flaml.automl: 04-24 00:16:20] {2567} INFO - iteration 15, current learner xgboost\n",
      "[flaml.automl: 04-24 00:16:20] {2744} INFO -  at 3.2s,\testimator xgboost's best error=2008.0961,\tbest estimator lgbm's best error=1309.7297\n",
      "[flaml.automl: 04-24 00:16:20] {2567} INFO - iteration 16, current learner lgbm\n",
      "[flaml.automl: 04-24 00:16:20] {2744} INFO -  at 3.3s,\testimator lgbm's best error=1309.7297,\tbest estimator lgbm's best error=1309.7297\n",
      "[flaml.automl: 04-24 00:16:20] {2567} INFO - iteration 17, current learner extra_tree\n",
      "[flaml.automl: 04-24 00:16:21] {2744} INFO -  at 3.5s,\testimator extra_tree's best error=1472.7692,\tbest estimator lgbm's best error=1309.7297\n",
      "[flaml.automl: 04-24 00:16:21] {2567} INFO - iteration 18, current learner lgbm\n",
      "[flaml.automl: 04-24 00:16:21] {2744} INFO -  at 3.8s,\testimator lgbm's best error=1189.6403,\tbest estimator lgbm's best error=1189.6403\n",
      "[flaml.automl: 04-24 00:16:21] {2567} INFO - iteration 19, current learner xgboost\n",
      "[flaml.automl: 04-24 00:16:21] {2744} INFO -  at 4.0s,\testimator xgboost's best error=1434.0032,\tbest estimator lgbm's best error=1189.6403\n",
      "[flaml.automl: 04-24 00:16:21] {2567} INFO - iteration 20, current learner xgboost\n",
      "[flaml.automl: 04-24 00:16:21] {2744} INFO -  at 4.1s,\testimator xgboost's best error=1434.0032,\tbest estimator lgbm's best error=1189.6403\n",
      "[flaml.automl: 04-24 00:16:21] {2567} INFO - iteration 21, current learner xgboost\n",
      "[flaml.automl: 04-24 00:16:21] {2744} INFO -  at 4.3s,\testimator xgboost's best error=1434.0032,\tbest estimator lgbm's best error=1189.6403\n",
      "[flaml.automl: 04-24 00:16:21] {2567} INFO - iteration 22, current learner lgbm\n",
      "[flaml.automl: 04-24 00:16:22] {2744} INFO -  at 4.7s,\testimator lgbm's best error=1189.6403,\tbest estimator lgbm's best error=1189.6403\n",
      "[flaml.automl: 04-24 00:16:22] {2567} INFO - iteration 23, current learner lgbm\n",
      "[flaml.automl: 04-24 00:16:22] {2744} INFO -  at 4.9s,\testimator lgbm's best error=1189.6403,\tbest estimator lgbm's best error=1189.6403\n",
      "[flaml.automl: 04-24 00:16:22] {2567} INFO - iteration 24, current learner xgboost\n",
      "[flaml.automl: 04-24 00:16:22] {2744} INFO -  at 5.1s,\testimator xgboost's best error=1353.4306,\tbest estimator lgbm's best error=1189.6403\n",
      "[flaml.automl: 04-24 00:16:22] {2567} INFO - iteration 25, current learner extra_tree\n",
      "[flaml.automl: 04-24 00:16:23] {2744} INFO -  at 5.5s,\testimator extra_tree's best error=1358.4983,\tbest estimator lgbm's best error=1189.6403\n",
      "[flaml.automl: 04-24 00:16:23] {2567} INFO - iteration 26, current learner rf\n",
      "[flaml.automl: 04-24 00:16:23] {2744} INFO -  at 6.0s,\testimator rf's best error=1321.6521,\tbest estimator lgbm's best error=1189.6403\n",
      "[flaml.automl: 04-24 00:16:23] {2567} INFO - iteration 27, current learner xgboost\n",
      "[flaml.automl: 04-24 00:16:23] {2744} INFO -  at 6.2s,\testimator xgboost's best error=1353.4306,\tbest estimator lgbm's best error=1189.6403\n",
      "[flaml.automl: 04-24 00:16:23] {2567} INFO - iteration 28, current learner extra_tree\n",
      "[flaml.automl: 04-24 00:16:24] {2744} INFO -  at 6.8s,\testimator extra_tree's best error=1288.0756,\tbest estimator lgbm's best error=1189.6403\n",
      "[flaml.automl: 04-24 00:16:24] {2567} INFO - iteration 29, current learner extra_tree\n",
      "[flaml.automl: 04-24 00:16:24] {2744} INFO -  at 7.1s,\testimator extra_tree's best error=1288.0756,\tbest estimator lgbm's best error=1189.6403\n",
      "[flaml.automl: 04-24 00:16:24] {2567} INFO - iteration 30, current learner lgbm\n",
      "[flaml.automl: 04-24 00:16:24] {2744} INFO -  at 7.4s,\testimator lgbm's best error=1189.6403,\tbest estimator lgbm's best error=1189.6403\n",
      "[flaml.automl: 04-24 00:16:24] {2567} INFO - iteration 31, current learner lgbm\n",
      "[flaml.automl: 04-24 00:16:25] {2744} INFO -  at 7.7s,\testimator lgbm's best error=1177.7517,\tbest estimator lgbm's best error=1177.7517\n",
      "[flaml.automl: 04-24 00:16:25] {2567} INFO - iteration 32, current learner lgbm\n",
      "[flaml.automl: 04-24 00:16:26] {2744} INFO -  at 8.6s,\testimator lgbm's best error=1177.7517,\tbest estimator lgbm's best error=1177.7517\n",
      "[flaml.automl: 04-24 00:16:26] {2567} INFO - iteration 33, current learner extra_tree\n",
      "[flaml.automl: 04-24 00:16:26] {2744} INFO -  at 8.9s,\testimator extra_tree's best error=1285.4679,\tbest estimator lgbm's best error=1177.7517\n",
      "[flaml.automl: 04-24 00:16:26] {2567} INFO - iteration 34, current learner lgbm\n",
      "[flaml.automl: 04-24 00:16:26] {2744} INFO -  at 9.2s,\testimator lgbm's best error=1177.7517,\tbest estimator lgbm's best error=1177.7517\n"
     ]
    },
    {
     "name": "stderr",
     "output_type": "stream",
     "text": [
      "[flaml.automl: 04-24 00:16:26] {2567} INFO - iteration 35, current learner lgbm\n",
      "[flaml.automl: 04-24 00:16:27] {2744} INFO -  at 9.9s,\testimator lgbm's best error=1177.7517,\tbest estimator lgbm's best error=1177.7517\n",
      "[flaml.automl: 04-24 00:16:27] {2567} INFO - iteration 36, current learner xgboost\n",
      "[flaml.automl: 04-24 00:16:27] {2744} INFO -  at 10.1s,\testimator xgboost's best error=1353.4306,\tbest estimator lgbm's best error=1177.7517\n",
      "[flaml.automl: 04-24 00:16:27] {2567} INFO - iteration 37, current learner rf\n",
      "[flaml.automl: 04-24 00:16:28] {2744} INFO -  at 10.7s,\testimator rf's best error=1243.6933,\tbest estimator lgbm's best error=1177.7517\n",
      "[flaml.automl: 04-24 00:16:28] {2567} INFO - iteration 38, current learner rf\n",
      "[flaml.automl: 04-24 00:16:28] {2744} INFO -  at 11.1s,\testimator rf's best error=1173.5906,\tbest estimator rf's best error=1173.5906\n",
      "[flaml.automl: 04-24 00:16:28] {2567} INFO - iteration 39, current learner rf\n",
      "[flaml.automl: 04-24 00:16:29] {2744} INFO -  at 11.8s,\testimator rf's best error=1173.5906,\tbest estimator rf's best error=1173.5906\n",
      "[flaml.automl: 04-24 00:16:29] {2567} INFO - iteration 40, current learner rf\n",
      "[flaml.automl: 04-24 00:16:30] {2744} INFO -  at 12.5s,\testimator rf's best error=1173.5906,\tbest estimator rf's best error=1173.5906\n",
      "[flaml.automl: 04-24 00:16:30] {2567} INFO - iteration 41, current learner xgboost\n",
      "[flaml.automl: 04-24 00:16:30] {2744} INFO -  at 12.8s,\testimator xgboost's best error=1269.4444,\tbest estimator rf's best error=1173.5906\n",
      "[flaml.automl: 04-24 00:16:30] {2567} INFO - iteration 42, current learner lgbm\n",
      "[flaml.automl: 04-24 00:16:30] {2744} INFO -  at 13.1s,\testimator lgbm's best error=1177.7517,\tbest estimator rf's best error=1173.5906\n",
      "[flaml.automl: 04-24 00:16:30] {2567} INFO - iteration 43, current learner xgboost\n",
      "[flaml.automl: 04-24 00:16:30] {2744} INFO -  at 13.3s,\testimator xgboost's best error=1269.4444,\tbest estimator rf's best error=1173.5906\n",
      "[flaml.automl: 04-24 00:16:30] {2567} INFO - iteration 44, current learner xgboost\n",
      "[flaml.automl: 04-24 00:16:30] {2744} INFO -  at 13.4s,\testimator xgboost's best error=1269.4444,\tbest estimator rf's best error=1173.5906\n",
      "[flaml.automl: 04-24 00:16:30] {2567} INFO - iteration 45, current learner xgboost\n",
      "[flaml.automl: 04-24 00:16:31] {2744} INFO -  at 13.7s,\testimator xgboost's best error=1239.9232,\tbest estimator rf's best error=1173.5906\n",
      "[flaml.automl: 04-24 00:16:31] {2567} INFO - iteration 46, current learner rf\n",
      "[flaml.automl: 04-24 00:16:31] {2744} INFO -  at 14.0s,\testimator rf's best error=1173.5906,\tbest estimator rf's best error=1173.5906\n",
      "[flaml.automl: 04-24 00:16:31] {2567} INFO - iteration 47, current learner xgboost\n",
      "[flaml.automl: 04-24 00:16:31] {2744} INFO -  at 14.3s,\testimator xgboost's best error=1239.9232,\tbest estimator rf's best error=1173.5906\n",
      "[flaml.automl: 04-24 00:16:31] {2567} INFO - iteration 48, current learner lgbm\n",
      "[flaml.automl: 04-24 00:16:31] {2744} INFO -  at 14.4s,\testimator lgbm's best error=1177.7517,\tbest estimator rf's best error=1173.5906\n",
      "[flaml.automl: 04-24 00:16:31] {2567} INFO - iteration 49, current learner rf\n",
      "[flaml.automl: 04-24 00:16:32] {2744} INFO -  at 15.1s,\testimator rf's best error=1155.4399,\tbest estimator rf's best error=1155.4399\n",
      "[flaml.automl: 04-24 00:16:32] {2567} INFO - iteration 50, current learner xgboost\n",
      "[flaml.automl: 04-24 00:16:33] {2744} INFO -  at 15.5s,\testimator xgboost's best error=1239.9232,\tbest estimator rf's best error=1155.4399\n",
      "[flaml.automl: 04-24 00:16:33] {2567} INFO - iteration 51, current learner rf\n",
      "[flaml.automl: 04-24 00:16:33] {2744} INFO -  at 16.1s,\testimator rf's best error=1155.4399,\tbest estimator rf's best error=1155.4399\n",
      "[flaml.automl: 04-24 00:16:33] {2567} INFO - iteration 52, current learner rf\n",
      "[flaml.automl: 04-24 00:16:34] {2744} INFO -  at 16.9s,\testimator rf's best error=1151.5650,\tbest estimator rf's best error=1151.5650\n",
      "[flaml.automl: 04-24 00:16:34] {2567} INFO - iteration 53, current learner rf\n",
      "[flaml.automl: 04-24 00:16:34] {2744} INFO -  at 17.2s,\testimator rf's best error=1151.5650,\tbest estimator rf's best error=1151.5650\n",
      "[flaml.automl: 04-24 00:16:34] {2567} INFO - iteration 54, current learner lgbm\n",
      "[flaml.automl: 04-24 00:16:36] {2744} INFO -  at 18.5s,\testimator lgbm's best error=1177.7517,\tbest estimator rf's best error=1151.5650\n",
      "[flaml.automl: 04-24 00:16:36] {2567} INFO - iteration 55, current learner rf\n",
      "[flaml.automl: 04-24 00:16:36] {2744} INFO -  at 19.0s,\testimator rf's best error=1129.0984,\tbest estimator rf's best error=1129.0984\n",
      "[flaml.automl: 04-24 00:16:36] {2567} INFO - iteration 56, current learner rf\n",
      "[flaml.automl: 04-24 00:16:37] {2744} INFO -  at 19.8s,\testimator rf's best error=1129.0984,\tbest estimator rf's best error=1129.0984\n",
      "[flaml.automl: 04-24 00:16:37] {2567} INFO - iteration 57, current learner rf\n",
      "[flaml.automl: 04-24 00:16:38] {2744} INFO -  at 20.7s,\testimator rf's best error=1129.0984,\tbest estimator rf's best error=1129.0984\n",
      "[flaml.automl: 04-24 00:16:38] {2567} INFO - iteration 58, current learner rf\n",
      "[flaml.automl: 04-24 00:16:39] {2744} INFO -  at 21.5s,\testimator rf's best error=1129.0984,\tbest estimator rf's best error=1129.0984\n",
      "[flaml.automl: 04-24 00:16:39] {2567} INFO - iteration 59, current learner rf\n",
      "[flaml.automl: 04-24 00:16:40] {2744} INFO -  at 22.5s,\testimator rf's best error=1128.9340,\tbest estimator rf's best error=1128.9340\n",
      "[flaml.automl: 04-24 00:16:40] {2567} INFO - iteration 60, current learner rf\n",
      "[flaml.automl: 04-24 00:16:41] {2744} INFO -  at 24.0s,\testimator rf's best error=1110.9241,\tbest estimator rf's best error=1110.9241\n",
      "[flaml.automl: 04-24 00:16:41] {2567} INFO - iteration 61, current learner rf\n",
      "[flaml.automl: 04-24 00:16:44] {2744} INFO -  at 26.6s,\testimator rf's best error=1110.1748,\tbest estimator rf's best error=1110.1748\n",
      "[flaml.automl: 04-24 00:16:44] {2567} INFO - iteration 62, current learner rf\n",
      "[flaml.automl: 04-24 00:16:46] {2744} INFO -  at 28.5s,\testimator rf's best error=1106.9822,\tbest estimator rf's best error=1106.9822\n",
      "[flaml.automl: 04-24 00:16:46] {2567} INFO - iteration 63, current learner rf\n",
      "[flaml.automl: 04-24 00:16:49] {2744} INFO -  at 31.7s,\testimator rf's best error=1106.9822,\tbest estimator rf's best error=1106.9822\n",
      "[flaml.automl: 04-24 00:16:49] {2567} INFO - iteration 64, current learner rf\n",
      "[flaml.automl: 04-24 00:16:51] {2744} INFO -  at 33.7s,\testimator rf's best error=1106.9822,\tbest estimator rf's best error=1106.9822\n",
      "[flaml.automl: 04-24 00:16:51] {2567} INFO - iteration 65, current learner rf\n",
      "[flaml.automl: 04-24 00:16:52] {2744} INFO -  at 35.4s,\testimator rf's best error=1106.9822,\tbest estimator rf's best error=1106.9822\n",
      "[flaml.automl: 04-24 00:16:52] {2567} INFO - iteration 66, current learner xgboost\n",
      "[flaml.automl: 04-24 00:16:53] {2744} INFO -  at 35.6s,\testimator xgboost's best error=1239.9232,\tbest estimator rf's best error=1106.9822\n",
      "[flaml.automl: 04-24 00:16:53] {2567} INFO - iteration 67, current learner rf\n",
      "[flaml.automl: 04-24 00:16:56] {2744} INFO -  at 39.1s,\testimator rf's best error=1106.9822,\tbest estimator rf's best error=1106.9822\n",
      "[flaml.automl: 04-24 00:16:56] {2567} INFO - iteration 68, current learner xgb_limitdepth\n",
      "[flaml.automl: 04-24 00:16:56] {2744} INFO -  at 39.4s,\testimator xgb_limitdepth's best error=1270.6669,\tbest estimator rf's best error=1106.9822\n",
      "[flaml.automl: 04-24 00:16:56] {2567} INFO - iteration 69, current learner xgboost\n",
      "[flaml.automl: 04-24 00:16:57] {2744} INFO -  at 39.8s,\testimator xgboost's best error=1239.9232,\tbest estimator rf's best error=1106.9822\n",
      "[flaml.automl: 04-24 00:16:57] {2567} INFO - iteration 70, current learner xgb_limitdepth\n",
      "[flaml.automl: 04-24 00:16:57] {2744} INFO -  at 40.0s,\testimator xgb_limitdepth's best error=1270.6669,\tbest estimator rf's best error=1106.9822\n",
      "[flaml.automl: 04-24 00:16:57] {2567} INFO - iteration 71, current learner xgb_limitdepth\n",
      "[flaml.automl: 04-24 00:16:57] {2744} INFO -  at 40.4s,\testimator xgb_limitdepth's best error=1263.6648,\tbest estimator rf's best error=1106.9822\n",
      "[flaml.automl: 04-24 00:16:57] {2567} INFO - iteration 72, current learner rf\n",
      "[flaml.automl: 04-24 00:16:59] {2744} INFO -  at 41.6s,\testimator rf's best error=1106.9822,\tbest estimator rf's best error=1106.9822\n"
     ]
    },
    {
     "name": "stderr",
     "output_type": "stream",
     "text": [
      "[flaml.automl: 04-24 00:16:59] {2567} INFO - iteration 73, current learner xgb_limitdepth\n",
      "[flaml.automl: 04-24 00:16:59] {2744} INFO -  at 41.9s,\testimator xgb_limitdepth's best error=1263.6648,\tbest estimator rf's best error=1106.9822\n",
      "[flaml.automl: 04-24 00:16:59] {2567} INFO - iteration 74, current learner xgboost\n",
      "[flaml.automl: 04-24 00:16:59] {2744} INFO -  at 42.0s,\testimator xgboost's best error=1239.9232,\tbest estimator rf's best error=1106.9822\n",
      "[flaml.automl: 04-24 00:16:59] {2567} INFO - iteration 75, current learner xgb_limitdepth\n",
      "[flaml.automl: 04-24 00:16:59] {2744} INFO -  at 42.4s,\testimator xgb_limitdepth's best error=1263.6648,\tbest estimator rf's best error=1106.9822\n",
      "[flaml.automl: 04-24 00:16:59] {2567} INFO - iteration 76, current learner rf\n",
      "[flaml.automl: 04-24 00:17:01] {2744} INFO -  at 44.1s,\testimator rf's best error=1106.9822,\tbest estimator rf's best error=1106.9822\n",
      "[flaml.automl: 04-24 00:17:01] {2567} INFO - iteration 77, current learner rf\n",
      "[flaml.automl: 04-24 00:17:03] {2744} INFO -  at 45.9s,\testimator rf's best error=1106.9822,\tbest estimator rf's best error=1106.9822\n",
      "[flaml.automl: 04-24 00:17:03] {2567} INFO - iteration 78, current learner xgboost\n",
      "[flaml.automl: 04-24 00:17:04] {2744} INFO -  at 46.5s,\testimator xgboost's best error=1205.7980,\tbest estimator rf's best error=1106.9822\n",
      "[flaml.automl: 04-24 00:17:04] {2567} INFO - iteration 79, current learner rf\n",
      "[flaml.automl: 04-24 00:17:05] {2744} INFO -  at 47.5s,\testimator rf's best error=1106.9822,\tbest estimator rf's best error=1106.9822\n",
      "[flaml.automl: 04-24 00:17:05] {2567} INFO - iteration 80, current learner rf\n",
      "[flaml.automl: 04-24 00:17:06] {2744} INFO -  at 49.3s,\testimator rf's best error=1106.9822,\tbest estimator rf's best error=1106.9822\n",
      "[flaml.automl: 04-24 00:17:06] {2567} INFO - iteration 81, current learner xgb_limitdepth\n",
      "[flaml.automl: 04-24 00:17:07] {2744} INFO -  at 49.5s,\testimator xgb_limitdepth's best error=1263.6648,\tbest estimator rf's best error=1106.9822\n",
      "[flaml.automl: 04-24 00:17:07] {2567} INFO - iteration 82, current learner lgbm\n",
      "[flaml.automl: 04-24 00:17:07] {2744} INFO -  at 49.9s,\testimator lgbm's best error=1177.7517,\tbest estimator rf's best error=1106.9822\n",
      "[flaml.automl: 04-24 00:17:07] {2974} INFO - retrain rf for 0.3s\n",
      "[flaml.automl: 04-24 00:17:07] {2981} INFO - retrained model: RandomForestRegressor(max_features=0.7879187584130635, max_leaf_nodes=1218,\n",
      "                      n_estimators=68, n_jobs=-1)\n",
      "[flaml.automl: 04-24 00:17:07] {2310} INFO - fit succeeded\n",
      "[flaml.automl: 04-24 00:17:07] {2311} INFO - Time taken to find the best model: 28.468977451324463\n"
     ]
    }
   ],
   "source": [
    "# fitting model\n",
    "automl.fit(X_train, y_train,**automl_settings)"
   ]
  },
  {
   "cell_type": "code",
   "execution_count": 14,
   "id": "45b9c70c",
   "metadata": {},
   "outputs": [
    {
     "data": {
      "text/plain": [
       "0.3779191592913568"
      ]
     },
     "execution_count": 14,
     "metadata": {},
     "output_type": "execute_result"
    }
   ],
   "source": [
    "# checking for r2 score \n",
    "automl.score(X_test,y_test)"
   ]
  },
  {
   "cell_type": "code",
   "execution_count": 15,
   "id": "b0f6d515",
   "metadata": {},
   "outputs": [],
   "source": [
    "# predicting values of x test\n",
    "y_predicted = automl.predict(X_test)"
   ]
  },
  {
   "cell_type": "code",
   "execution_count": 16,
   "id": "4b7d2c39",
   "metadata": {},
   "outputs": [],
   "source": [
    "# checking for RMSE value \n",
    "from sklearn.metrics import mean_squared_error\n",
    "RMSE = np.sqrt(mean_squared_error(y_test,y_predicted))"
   ]
  },
  {
   "cell_type": "code",
   "execution_count": 17,
   "id": "538eb6ea",
   "metadata": {},
   "outputs": [
    {
     "data": {
      "text/plain": [
       "32.38424330778613"
      ]
     },
     "execution_count": 17,
     "metadata": {},
     "output_type": "execute_result"
    }
   ],
   "source": [
    "RMSE"
   ]
  },
  {
   "cell_type": "markdown",
   "id": "3a5b6733",
   "metadata": {},
   "source": [
    "#### Predicting demand for year 2021-22"
   ]
  },
  {
   "cell_type": "code",
   "execution_count": 18,
   "id": "3e2c430d",
   "metadata": {},
   "outputs": [],
   "source": [
    "test = pd.read_csv(\"D:/Data/Hackathon/AV/test_.csv\")"
   ]
  },
  {
   "cell_type": "markdown",
   "id": "dfe0e1bc",
   "metadata": {},
   "source": [
    "macking data compaitable for prediction."
   ]
  },
  {
   "cell_type": "code",
   "execution_count": 19,
   "id": "7fa1168a",
   "metadata": {},
   "outputs": [],
   "source": [
    "test.date = pd.to_datetime(test['date'])\n",
    "test['year'] = pd.DatetimeIndex(test['date']).year\n",
    "test['month'] = pd.DatetimeIndex(test['date']).month\n",
    "test['day'] = pd.DatetimeIndex(test['date']).day\n",
    "test.drop(columns=['date'],inplace = True)"
   ]
  },
  {
   "cell_type": "code",
   "execution_count": 24,
   "id": "f6591a59",
   "metadata": {},
   "outputs": [],
   "source": [
    "y_predict = automl.predict(test)"
   ]
  },
  {
   "cell_type": "code",
   "execution_count": 25,
   "id": "31ff4301",
   "metadata": {},
   "outputs": [],
   "source": [
    "test.insert(2,'demand',y_predict)"
   ]
  },
  {
   "cell_type": "markdown",
   "id": "2d2d6985",
   "metadata": {},
   "source": [
    "Converitng data into desired format."
   ]
  },
  {
   "cell_type": "code",
   "execution_count": 26,
   "id": "7f1fd755",
   "metadata": {},
   "outputs": [],
   "source": [
    "test['date']=pd.to_datetime(test[['year', 'month', 'day']])\n",
    "test.drop(columns = ['year','month','day'],inplace= True)\n",
    "test = test[['date','hour','demand']]"
   ]
  },
  {
   "cell_type": "code",
   "execution_count": 27,
   "id": "5174dc51",
   "metadata": {},
   "outputs": [
    {
     "data": {
      "text/html": [
       "<div>\n",
       "<style scoped>\n",
       "    .dataframe tbody tr th:only-of-type {\n",
       "        vertical-align: middle;\n",
       "    }\n",
       "\n",
       "    .dataframe tbody tr th {\n",
       "        vertical-align: top;\n",
       "    }\n",
       "\n",
       "    .dataframe thead th {\n",
       "        text-align: right;\n",
       "    }\n",
       "</style>\n",
       "<table border=\"1\" class=\"dataframe\">\n",
       "  <thead>\n",
       "    <tr style=\"text-align: right;\">\n",
       "      <th></th>\n",
       "      <th>date</th>\n",
       "      <th>hour</th>\n",
       "      <th>demand</th>\n",
       "    </tr>\n",
       "  </thead>\n",
       "  <tbody>\n",
       "    <tr>\n",
       "      <th>0</th>\n",
       "      <td>2021-03-01</td>\n",
       "      <td>0</td>\n",
       "      <td>70.694139</td>\n",
       "    </tr>\n",
       "    <tr>\n",
       "      <th>1</th>\n",
       "      <td>2021-03-01</td>\n",
       "      <td>1</td>\n",
       "      <td>61.468052</td>\n",
       "    </tr>\n",
       "    <tr>\n",
       "      <th>2</th>\n",
       "      <td>2021-03-01</td>\n",
       "      <td>2</td>\n",
       "      <td>59.982504</td>\n",
       "    </tr>\n",
       "    <tr>\n",
       "      <th>3</th>\n",
       "      <td>2021-03-01</td>\n",
       "      <td>3</td>\n",
       "      <td>58.850045</td>\n",
       "    </tr>\n",
       "    <tr>\n",
       "      <th>4</th>\n",
       "      <td>2021-03-01</td>\n",
       "      <td>5</td>\n",
       "      <td>48.328860</td>\n",
       "    </tr>\n",
       "    <tr>\n",
       "      <th>...</th>\n",
       "      <td>...</td>\n",
       "      <td>...</td>\n",
       "      <td>...</td>\n",
       "    </tr>\n",
       "    <tr>\n",
       "      <th>7645</th>\n",
       "      <td>2022-03-28</td>\n",
       "      <td>19</td>\n",
       "      <td>99.768205</td>\n",
       "    </tr>\n",
       "    <tr>\n",
       "      <th>7646</th>\n",
       "      <td>2022-03-28</td>\n",
       "      <td>20</td>\n",
       "      <td>93.696285</td>\n",
       "    </tr>\n",
       "    <tr>\n",
       "      <th>7647</th>\n",
       "      <td>2022-03-28</td>\n",
       "      <td>21</td>\n",
       "      <td>63.791142</td>\n",
       "    </tr>\n",
       "    <tr>\n",
       "      <th>7648</th>\n",
       "      <td>2022-03-28</td>\n",
       "      <td>22</td>\n",
       "      <td>61.792185</td>\n",
       "    </tr>\n",
       "    <tr>\n",
       "      <th>7649</th>\n",
       "      <td>2022-03-28</td>\n",
       "      <td>23</td>\n",
       "      <td>59.638941</td>\n",
       "    </tr>\n",
       "  </tbody>\n",
       "</table>\n",
       "<p>7650 rows × 3 columns</p>\n",
       "</div>"
      ],
      "text/plain": [
       "           date  hour     demand\n",
       "0    2021-03-01     0  70.694139\n",
       "1    2021-03-01     1  61.468052\n",
       "2    2021-03-01     2  59.982504\n",
       "3    2021-03-01     3  58.850045\n",
       "4    2021-03-01     5  48.328860\n",
       "...         ...   ...        ...\n",
       "7645 2022-03-28    19  99.768205\n",
       "7646 2022-03-28    20  93.696285\n",
       "7647 2022-03-28    21  63.791142\n",
       "7648 2022-03-28    22  61.792185\n",
       "7649 2022-03-28    23  59.638941\n",
       "\n",
       "[7650 rows x 3 columns]"
      ]
     },
     "execution_count": 27,
     "metadata": {},
     "output_type": "execute_result"
    }
   ],
   "source": [
    "test"
   ]
  },
  {
   "cell_type": "markdown",
   "id": "0ce154eb",
   "metadata": {},
   "source": [
    "Exporting final dataset."
   ]
  },
  {
   "cell_type": "code",
   "execution_count": 28,
   "id": "cb4ee63c",
   "metadata": {},
   "outputs": [],
   "source": [
    "test.to_csv(\"test.csv\")"
   ]
  }
 ],
 "metadata": {
  "kernelspec": {
   "display_name": "Python 3",
   "language": "python",
   "name": "python3"
  },
  "language_info": {
   "codemirror_mode": {
    "name": "ipython",
    "version": 3
   },
   "file_extension": ".py",
   "mimetype": "text/x-python",
   "name": "python",
   "nbconvert_exporter": "python",
   "pygments_lexer": "ipython3",
   "version": "3.8.8"
  }
 },
 "nbformat": 4,
 "nbformat_minor": 5
}
